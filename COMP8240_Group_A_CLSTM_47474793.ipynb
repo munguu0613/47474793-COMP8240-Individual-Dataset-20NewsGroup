{
  "cells": [
    {
      "cell_type": "markdown",
      "metadata": {
        "id": "view-in-github",
        "colab_type": "text"
      },
      "source": [
        "<a href=\"https://colab.research.google.com/github/munguu0613/47474793-COMP8240-Individual-Dataset-20NewsGroup/blob/main/COMP8240_Group_A_CLSTM_47474793.ipynb\" target=\"_parent\"><img src=\"https://colab.research.google.com/assets/colab-badge.svg\" alt=\"Open In Colab\"/></a>"
      ]
    },
    {
      "cell_type": "code",
      "source": [
        "from google.colab import drive\n",
        "drive.mount('/content/drive')\n"
      ],
      "metadata": {
        "colab": {
          "base_uri": "https://localhost:8080/"
        },
        "id": "NBVJjbl0MI-Z",
        "outputId": "8882ca6a-65e8-4c36-e384-caa7b620f6df"
      },
      "execution_count": 30,
      "outputs": [
        {
          "output_type": "stream",
          "name": "stdout",
          "text": [
            "Mounted at /content/drive\n"
          ]
        }
      ]
    },
    {
      "cell_type": "code",
      "execution_count": 8,
      "metadata": {
        "id": "YurdG8Q-2zDh"
      },
      "outputs": [],
      "source": [
        "import numpy as np\n",
        "import tensorflow as tf\n",
        "from tensorflow.keras.preprocessing import sequence\n",
        "from tensorflow.keras.preprocessing.text import Tokenizer\n",
        "from tensorflow.keras import layers"
      ]
    },
    {
      "cell_type": "code",
      "execution_count": 9,
      "metadata": {
        "id": "cGswJ7F3eU4f"
      },
      "outputs": [],
      "source": [
        "# !pip install datasets"
      ]
    },
    {
      "cell_type": "code",
      "execution_count": 10,
      "metadata": {
        "id": "OnlM14yPePpF"
      },
      "outputs": [],
      "source": [
        "# !pip install tensorflow scikit-learn datasets\n"
      ]
    },
    {
      "cell_type": "markdown",
      "metadata": {
        "id": "5SVaNCvzUZC9"
      },
      "source": [
        "BINARY CLASSIFICATION C-LSTM on 20 NEWSGROUP"
      ]
    },
    {
      "cell_type": "code",
      "execution_count": 11,
      "metadata": {
        "id": "sgHo3crDphCt"
      },
      "outputs": [],
      "source": [
        "# !pip install tensorflow scikit-learn datasets\n"
      ]
    },
    {
      "cell_type": "code",
      "source": [],
      "metadata": {
        "id": "hxbwmU_2MHwL"
      },
      "execution_count": null,
      "outputs": []
    },
    {
      "cell_type": "code",
      "execution_count": 31,
      "metadata": {
        "colab": {
          "base_uri": "https://localhost:8080/"
        },
        "id": "_CxTVaZkphAX",
        "outputId": "3870b226-978d-4f6e-839f-48fcf0c4e9e1"
      },
      "outputs": [
        {
          "output_type": "stream",
          "name": "stderr",
          "text": [
            "/usr/local/lib/python3.10/dist-packages/keras/src/layers/core/embedding.py:90: UserWarning: Argument `input_length` is deprecated. Just remove it.\n",
            "  warnings.warn(\n"
          ]
        },
        {
          "output_type": "stream",
          "name": "stdout",
          "text": [
            "Epoch 1/10\n",
            "\u001b[1m25/25\u001b[0m \u001b[32m━━━━━━━━━━━━━━━━━━━━\u001b[0m\u001b[37m\u001b[0m \u001b[1m15s\u001b[0m 139ms/step - accuracy: 0.6443 - loss: 0.6620 - val_accuracy: 0.5530 - val_loss: 0.6764\n",
            "Epoch 2/10\n",
            "\u001b[1m25/25\u001b[0m \u001b[32m━━━━━━━━━━━━━━━━━━━━\u001b[0m\u001b[37m\u001b[0m \u001b[1m1s\u001b[0m 40ms/step - accuracy: 0.8522 - loss: 0.3342 - val_accuracy: 0.9217 - val_loss: 0.2264\n",
            "Epoch 3/10\n",
            "\u001b[1m25/25\u001b[0m \u001b[32m━━━━━━━━━━━━━━━━━━━━\u001b[0m\u001b[37m\u001b[0m \u001b[1m1s\u001b[0m 39ms/step - accuracy: 0.8995 - loss: 0.2231 - val_accuracy: 0.6616 - val_loss: 1.0189\n",
            "Epoch 4/10\n",
            "\u001b[1m25/25\u001b[0m \u001b[32m━━━━━━━━━━━━━━━━━━━━\u001b[0m\u001b[37m\u001b[0m \u001b[1m1s\u001b[0m 36ms/step - accuracy: 0.9445 - loss: 0.1280 - val_accuracy: 0.9015 - val_loss: 0.2925\n",
            "Epoch 5/10\n",
            "\u001b[1m25/25\u001b[0m \u001b[32m━━━━━━━━━━━━━━━━━━━━\u001b[0m\u001b[37m\u001b[0m \u001b[1m1s\u001b[0m 36ms/step - accuracy: 0.9561 - loss: 0.1090 - val_accuracy: 0.9369 - val_loss: 0.1526\n",
            "Epoch 6/10\n",
            "\u001b[1m25/25\u001b[0m \u001b[32m━━━━━━━━━━━━━━━━━━━━\u001b[0m\u001b[37m\u001b[0m \u001b[1m1s\u001b[0m 36ms/step - accuracy: 0.9608 - loss: 0.0961 - val_accuracy: 0.9444 - val_loss: 0.1634\n",
            "Epoch 7/10\n",
            "\u001b[1m25/25\u001b[0m \u001b[32m━━━━━━━━━━━━━━━━━━━━\u001b[0m\u001b[37m\u001b[0m \u001b[1m1s\u001b[0m 36ms/step - accuracy: 0.9760 - loss: 0.0631 - val_accuracy: 0.9242 - val_loss: 0.1666\n",
            "Epoch 8/10\n",
            "\u001b[1m25/25\u001b[0m \u001b[32m━━━━━━━━━━━━━━━━━━━━\u001b[0m\u001b[37m\u001b[0m \u001b[1m1s\u001b[0m 36ms/step - accuracy: 0.9607 - loss: 0.0924 - val_accuracy: 0.9394 - val_loss: 0.1499\n",
            "Epoch 9/10\n",
            "\u001b[1m25/25\u001b[0m \u001b[32m━━━━━━━━━━━━━━━━━━━━\u001b[0m\u001b[37m\u001b[0m \u001b[1m1s\u001b[0m 36ms/step - accuracy: 0.9632 - loss: 0.0755 - val_accuracy: 0.9091 - val_loss: 0.1834\n",
            "Epoch 10/10\n",
            "\u001b[1m25/25\u001b[0m \u001b[32m━━━━━━━━━━━━━━━━━━━━\u001b[0m\u001b[37m\u001b[0m \u001b[1m1s\u001b[0m 36ms/step - accuracy: 0.9734 - loss: 0.0617 - val_accuracy: 0.9419 - val_loss: 0.1332\n",
            "\u001b[1m13/13\u001b[0m \u001b[32m━━━━━━━━━━━━━━━━━━━━\u001b[0m\u001b[37m\u001b[0m \u001b[1m0s\u001b[0m 8ms/step - accuracy: 0.9509 - loss: 0.1219\n",
            "Test Loss: 0.1332266479730606, Test Accuracy: 0.941919207572937\n"
          ]
        }
      ],
      "source": [
        "import numpy as np\n",
        "import tensorflow as tf\n",
        "from tensorflow.keras.preprocessing.text import Tokenizer\n",
        "from tensorflow.keras.preprocessing.sequence import pad_sequences\n",
        "from tensorflow.keras import layers\n",
        "from sklearn.model_selection import train_test_split\n",
        "from sklearn.datasets import fetch_20newsgroups\n",
        "\n",
        "# Step 1: Load and preprocess the 20 Newsgroups dataset\n",
        "# Select two categories for binary classification, e.g., 'sci.med' and 'rec.autos'\n",
        "categories = ['sci.med', 'rec.autos']\n",
        "newsgroups_data = fetch_20newsgroups(subset='all', categories=categories, remove=('headers', 'footers', 'quotes'))\n",
        "\n",
        "# Text data and binary labels (0 or 1 based on category index)\n",
        "texts = newsgroups_data.data\n",
        "labels = newsgroups_data.target  # 0 for 'sci.med', 1 for 'rec.autos'\n",
        "\n",
        "# Tokenization and padding\n",
        "VOCAB_SIZE = 10000\n",
        "MAX_LEN = 300\n",
        "\n",
        "tokenizer = Tokenizer(num_words=VOCAB_SIZE)\n",
        "tokenizer.fit_on_texts(texts)\n",
        "sequences = tokenizer.texts_to_sequences(texts)\n",
        "x_data = pad_sequences(sequences, maxlen=MAX_LEN)\n",
        "y_data = np.array(labels)\n",
        "\n",
        "# Split data into training and test sets\n",
        "x_train, x_test, y_train, y_test = train_test_split(x_data, y_data, test_size=0.2, random_state=42)\n",
        "\n",
        "# Step 2: Load GloVe embeddings\n",
        "def load_glove_embeddings(glove_file_path, embedding_dim=300):\n",
        "    embeddings_index = {}\n",
        "    with open(glove_file_path, 'r', encoding='utf-8') as f:\n",
        "        for line in f:\n",
        "            values = line.split()\n",
        "            word = values[0]\n",
        "            embedding_vector = np.asarray(values[1:], dtype='float32')\n",
        "            embeddings_index[word] = embedding_vector\n",
        "    return embeddings_index\n",
        "\n",
        "# Create embedding matrix\n",
        "def create_embedding_matrix(word_index, glove_embeddings, vocab_size, embedding_dim=300):\n",
        "    embedding_matrix = np.zeros((vocab_size, embedding_dim))\n",
        "    for word, i in word_index.items():\n",
        "        if i < vocab_size:\n",
        "            embedding_vector = glove_embeddings.get(word)\n",
        "            if embedding_vector is not None:\n",
        "                embedding_matrix[i] = embedding_vector\n",
        "    return embedding_matrix\n",
        "\n",
        "# Load pre-trained GloVe embeddings (update with your actual path)\n",
        "glove_file_path = \"/content/drive/My Drive/glove.6B.300d.txt\"\n",
        "glove_embeddings = load_glove_embeddings(glove_file_path)\n",
        "embedding_matrix = create_embedding_matrix(tokenizer.word_index, glove_embeddings, VOCAB_SIZE)\n",
        "\n",
        "# Step 3: Define the C-LSTM Model for Binary Classification\n",
        "class CLSTMBinaryClassifier(tf.keras.Model):\n",
        "    def __init__(self, vocab_size, embedding_matrix, max_length, num_filters=150, lstm_units=150, embedding_dim=300, dropout_rate=0.5, l2_reg_lambda=0.001):\n",
        "        super(CLSTMBinaryClassifier, self).__init__()\n",
        "        self.embedding = layers.Embedding(input_dim=vocab_size,\n",
        "                                          output_dim=embedding_dim,\n",
        "                                          input_length=max_length,\n",
        "                                          weights=[embedding_matrix],\n",
        "                                          trainable=True)\n",
        "        self.embedding_dropout = layers.Dropout(rate=dropout_rate)\n",
        "\n",
        "        # Convolutional layer with filter size 3\n",
        "        self.conv_layer = layers.Conv2D(filters=num_filters,\n",
        "                                        kernel_size=(3, embedding_dim),\n",
        "                                        activation='relu', padding='valid')\n",
        "        self.batch_norm = layers.BatchNormalization()\n",
        "\n",
        "        # LSTM layer to capture dependencies\n",
        "        self.lstm = layers.LSTM(lstm_units, return_sequences=False)\n",
        "        self.dropout = layers.Dropout(rate=dropout_rate)\n",
        "\n",
        "        # Output layer for binary classification\n",
        "        self.fc = layers.Dense(1, activation='sigmoid', kernel_regularizer=tf.keras.regularizers.L2(l2_reg_lambda))\n",
        "\n",
        "    def call(self, inputs, training=False):\n",
        "        x = self.embedding(inputs)\n",
        "        x = self.embedding_dropout(x, training=training)\n",
        "        x = tf.expand_dims(x, -1)\n",
        "\n",
        "        # Apply convolutional layer and batch normalization\n",
        "        conv_out = self.conv_layer(x)\n",
        "        conv_out = self.batch_norm(conv_out, training=training)\n",
        "        conv_out = tf.squeeze(conv_out, 2)\n",
        "\n",
        "        # Pass through LSTM\n",
        "        rnn_outputs = self.lstm(conv_out)\n",
        "        rnn_outputs = self.dropout(rnn_outputs, training=training)\n",
        "\n",
        "        # Output for binary classification\n",
        "        binary_output = self.fc(rnn_outputs)\n",
        "        return binary_output\n",
        "\n",
        "# Step 4: Initialize and compile the model\n",
        "model = CLSTMBinaryClassifier(vocab_size=VOCAB_SIZE,\n",
        "                              embedding_matrix=embedding_matrix,\n",
        "                              max_length=MAX_LEN)\n",
        "\n",
        "model.compile(optimizer='rmsprop', loss='binary_crossentropy', metrics=['accuracy'])\n",
        "\n",
        "# Step 5: Train the model\n",
        "history = model.fit(\n",
        "    x_train, y_train,\n",
        "    batch_size=64,\n",
        "    epochs=10,\n",
        "    validation_data=(x_test, y_test),\n",
        "    verbose=1\n",
        ")\n",
        "\n",
        "# Step 6: Evaluate the model\n",
        "test_loss, test_acc = model.evaluate(x_test, y_test)\n",
        "print(f'Test Loss: {test_loss}, Test Accuracy: {test_acc}')\n"
      ]
    },
    {
      "cell_type": "markdown",
      "metadata": {
        "id": "eSnu7pHrW-05"
      },
      "source": [
        "C-LSTM FINE-GRAINED CLASSIFICATTION ON THE 20 NEWS GROUP DATASET"
      ]
    },
    {
      "cell_type": "code",
      "execution_count": null,
      "metadata": {
        "colab": {
          "base_uri": "https://localhost:8080/"
        },
        "id": "rUmoJvuyXAUd",
        "outputId": "ab69c494-2b9a-4247-8e8b-330812fa0e31"
      },
      "outputs": [
        {
          "name": "stdout",
          "output_type": "stream",
          "text": [
            "Epoch 1/10\n",
            "\u001b[1m236/236\u001b[0m \u001b[32m━━━━━━━━━━━━━━━━━━━━\u001b[0m\u001b[37m\u001b[0m \u001b[1m12s\u001b[0m 42ms/step - accuracy: 0.1911 - loss: 2.6503 - val_accuracy: 0.3586 - val_loss: 2.0495\n",
            "Epoch 2/10\n",
            "\u001b[1m236/236\u001b[0m \u001b[32m━━━━━━━━━━━━━━━━━━━━\u001b[0m\u001b[37m\u001b[0m \u001b[1m6s\u001b[0m 24ms/step - accuracy: 0.4776 - loss: 1.6343 - val_accuracy: 0.5549 - val_loss: 1.4209\n",
            "Epoch 3/10\n",
            "\u001b[1m236/236\u001b[0m \u001b[32m━━━━━━━━━━━━━━━━━━━━\u001b[0m\u001b[37m\u001b[0m \u001b[1m6s\u001b[0m 24ms/step - accuracy: 0.5918 - loss: 1.3165 - val_accuracy: 0.6085 - val_loss: 1.2747\n",
            "Epoch 4/10\n",
            "\u001b[1m236/236\u001b[0m \u001b[32m━━━━━━━━━━━━━━━━━━━━\u001b[0m\u001b[37m\u001b[0m \u001b[1m6s\u001b[0m 24ms/step - accuracy: 0.6366 - loss: 1.1911 - val_accuracy: 0.6244 - val_loss: 1.2685\n",
            "Epoch 5/10\n",
            "\u001b[1m236/236\u001b[0m \u001b[32m━━━━━━━━━━━━━━━━━━━━\u001b[0m\u001b[37m\u001b[0m \u001b[1m6s\u001b[0m 24ms/step - accuracy: 0.6676 - loss: 1.1052 - val_accuracy: 0.6610 - val_loss: 1.1554\n",
            "Epoch 6/10\n",
            "\u001b[1m236/236\u001b[0m \u001b[32m━━━━━━━━━━━━━━━━━━━━\u001b[0m\u001b[37m\u001b[0m \u001b[1m6s\u001b[0m 24ms/step - accuracy: 0.6812 - loss: 1.0501 - val_accuracy: 0.6634 - val_loss: 1.1286\n",
            "Epoch 7/10\n",
            "\u001b[1m236/236\u001b[0m \u001b[32m━━━━━━━━━━━━━━━━━━━━\u001b[0m\u001b[37m\u001b[0m \u001b[1m6s\u001b[0m 24ms/step - accuracy: 0.7108 - loss: 0.9676 - val_accuracy: 0.6658 - val_loss: 1.1243\n",
            "Epoch 8/10\n",
            "\u001b[1m236/236\u001b[0m \u001b[32m━━━━━━━━━━━━━━━━━━━━\u001b[0m\u001b[37m\u001b[0m \u001b[1m6s\u001b[0m 24ms/step - accuracy: 0.7269 - loss: 0.9116 - val_accuracy: 0.6597 - val_loss: 1.1466\n",
            "Epoch 9/10\n",
            "\u001b[1m236/236\u001b[0m \u001b[32m━━━━━━━━━━━━━━━━━━━━\u001b[0m\u001b[37m\u001b[0m \u001b[1m6s\u001b[0m 24ms/step - accuracy: 0.7403 - loss: 0.8852 - val_accuracy: 0.6788 - val_loss: 1.1031\n",
            "Epoch 10/10\n",
            "\u001b[1m236/236\u001b[0m \u001b[32m━━━━━━━━━━━━━━━━━━━━\u001b[0m\u001b[37m\u001b[0m \u001b[1m6s\u001b[0m 24ms/step - accuracy: 0.7501 - loss: 0.8426 - val_accuracy: 0.6785 - val_loss: 1.1009\n",
            "\u001b[1m118/118\u001b[0m \u001b[32m━━━━━━━━━━━━━━━━━━━━\u001b[0m\u001b[37m\u001b[0m \u001b[1m1s\u001b[0m 7ms/step - accuracy: 0.6723 - loss: 1.1311\n",
            "Test Loss: 1.1009162664413452, Test Accuracy: 0.6785145998001099\n"
          ]
        }
      ],
      "source": [
        "import numpy as np\n",
        "import tensorflow as tf\n",
        "from tensorflow.keras.preprocessing.text import Tokenizer\n",
        "from tensorflow.keras.preprocessing.sequence import pad_sequences\n",
        "from tensorflow.keras import layers\n",
        "from sklearn.model_selection import train_test_split\n",
        "from sklearn.datasets import fetch_20newsgroups\n",
        "\n",
        "# Step 1: Load and preprocess the 20 Newsgroups dataset\n",
        "newsgroups_data = fetch_20newsgroups(subset='all', remove=('headers', 'footers', 'quotes'))\n",
        "\n",
        "# Text data and fine-grained labels (20 categories)\n",
        "texts = newsgroups_data.data\n",
        "labels = newsgroups_data.target\n",
        "\n",
        "# Tokenization and padding\n",
        "VOCAB_SIZE = 10000\n",
        "MAX_LEN = 300\n",
        "\n",
        "tokenizer = Tokenizer(num_words=VOCAB_SIZE)\n",
        "tokenizer.fit_on_texts(texts)\n",
        "sequences = tokenizer.texts_to_sequences(texts)\n",
        "x_data = pad_sequences(sequences, maxlen=MAX_LEN)\n",
        "y_data = np.array(labels)\n",
        "\n",
        "# Split data into training and test sets\n",
        "x_train, x_test, y_train, y_test = train_test_split(x_data, y_data, test_size=0.2, random_state=42)\n",
        "\n",
        "# Step 2: Load GloVe embeddings\n",
        "def load_glove_embeddings(glove_file_path, embedding_dim=300):\n",
        "    embeddings_index = {}\n",
        "    with open(glove_file_path, 'r', encoding='utf-8') as f:\n",
        "        for line in f:\n",
        "            values = line.split()\n",
        "            word = values[0]\n",
        "            embedding_vector = np.asarray(values[1:], dtype='float32')\n",
        "            embeddings_index[word] = embedding_vector\n",
        "    return embeddings_index\n",
        "\n",
        "# Create embedding matrix\n",
        "def create_embedding_matrix(word_index, glove_embeddings, vocab_size, embedding_dim=300):\n",
        "    embedding_matrix = np.zeros((vocab_size, embedding_dim))\n",
        "    for word, i in word_index.items():\n",
        "        if i < vocab_size:\n",
        "            embedding_vector = glove_embeddings.get(word)\n",
        "            if embedding_vector is not None:\n",
        "                embedding_matrix[i] = embedding_vector\n",
        "    return embedding_matrix\n",
        "\n",
        "# Load pre-trained GloVe embeddings (update this path)\n",
        "glove_file_path = r\"C:\\Users\\mungu\\Documents\\Glove\\glove.6B.300d.txt\"\n",
        "glove_embeddings = load_glove_embeddings(glove_file_path)\n",
        "embedding_matrix = create_embedding_matrix(tokenizer.word_index, glove_embeddings, VOCAB_SIZE)\n",
        "\n",
        "# Step 3: Define the C-LSTM Model for Fine-Grained Classification (20 classes)\n",
        "class CLSTMMultiClassClassifier(tf.keras.Model):\n",
        "    def __init__(self, vocab_size, embedding_matrix, max_length, num_filters=150, lstm_units=150, num_classes=20, embedding_dim=300, dropout_rate=0.5, l2_reg_lambda=0.001):\n",
        "        super(CLSTMMultiClassClassifier, self).__init__()\n",
        "        self.embedding = layers.Embedding(input_dim=vocab_size,\n",
        "                                          output_dim=embedding_dim,\n",
        "                                          input_length=max_length,\n",
        "                                          weights=[embedding_matrix],\n",
        "                                          trainable=True)\n",
        "        self.embedding_dropout = layers.Dropout(rate=dropout_rate)\n",
        "\n",
        "        # Convolutional layer with filter size 3\n",
        "        self.conv_layer = layers.Conv2D(filters=num_filters,\n",
        "                                        kernel_size=(3, embedding_dim),\n",
        "                                        activation='relu', padding='valid')\n",
        "        self.batch_norm = layers.BatchNormalization()\n",
        "\n",
        "        # LSTM layer to capture dependencies\n",
        "        self.lstm = layers.LSTM(lstm_units, return_sequences=False)\n",
        "        self.dropout = layers.Dropout(rate=dropout_rate)\n",
        "\n",
        "        # Output layer for multi-class classification\n",
        "        self.fc = layers.Dense(num_classes, activation='softmax', kernel_regularizer=tf.keras.regularizers.L2(l2_reg_lambda))\n",
        "\n",
        "    def call(self, inputs, training=False):\n",
        "        x = self.embedding(inputs)\n",
        "        x = self.embedding_dropout(x, training=training)\n",
        "        x = tf.expand_dims(x, -1)\n",
        "\n",
        "        # Apply convolutional layer and batch normalization\n",
        "        conv_out = self.conv_layer(x)\n",
        "        conv_out = self.batch_norm(conv_out, training=training)\n",
        "        conv_out = tf.squeeze(conv_out, 2)\n",
        "\n",
        "        # Pass through LSTM\n",
        "        rnn_outputs = self.lstm(conv_out)\n",
        "        rnn_outputs = self.dropout(rnn_outputs, training=training)\n",
        "\n",
        "        # Output for multi-class classification\n",
        "        multi_class_output = self.fc(rnn_outputs)\n",
        "        return multi_class_output\n",
        "\n",
        "# Step 4: Initialize and compile the model\n",
        "model = CLSTMMultiClassClassifier(vocab_size=VOCAB_SIZE,\n",
        "                                  embedding_matrix=embedding_matrix,\n",
        "                                  max_length=MAX_LEN,\n",
        "                                  num_classes=20)\n",
        "\n",
        "model.compile(optimizer='rmsprop', loss='sparse_categorical_crossentropy', metrics=['accuracy'])\n",
        "\n",
        "# Step 5: Train the model\n",
        "history = model.fit(\n",
        "    x_train, y_train,\n",
        "    batch_size=64,\n",
        "    epochs=10,\n",
        "    validation_data=(x_test, y_test),\n",
        "    verbose=1\n",
        ")\n",
        "\n",
        "# Step 6: Evaluate the model\n",
        "test_loss, test_acc = model.evaluate(x_test, y_test)\n",
        "print(f'Test Loss: {test_loss}, Test Accuracy: {test_acc}')\n"
      ]
    }
  ],
  "metadata": {
    "accelerator": "GPU",
    "colab": {
      "gpuType": "T4",
      "machine_shape": "hm",
      "provenance": [],
      "include_colab_link": true
    },
    "kernelspec": {
      "display_name": "Python 3 (ipykernel)",
      "language": "python",
      "name": "python3"
    },
    "language_info": {
      "codemirror_mode": {
        "name": "ipython",
        "version": 3
      },
      "file_extension": ".py",
      "mimetype": "text/x-python",
      "name": "python",
      "nbconvert_exporter": "python",
      "pygments_lexer": "ipython3",
      "version": "3.12.3"
    }
  },
  "nbformat": 4,
  "nbformat_minor": 0
}